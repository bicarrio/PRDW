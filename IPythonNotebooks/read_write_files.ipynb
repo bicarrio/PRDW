{
 "metadata": {
  "name": "",
  "signature": "sha256:c9a530ac0df0c73ce0f25ae7bac3e2a853de16f5f371112e25c3a9efd8851570"
 },
 "nbformat": 3,
 "nbformat_minor": 0,
 "worksheets": [
  {
   "cells": [
    {
     "cell_type": "heading",
     "level": 1,
     "metadata": {},
     "source": [
      "Sneak Preview of Python"
     ]
    },
    {
     "cell_type": "markdown",
     "metadata": {},
     "source": [
      "This is the first intend to write my first IPython Notebook."
     ]
    },
    {
     "cell_type": "heading",
     "level": 2,
     "metadata": {},
     "source": [
      "Working with files in Python"
     ]
    },
    {
     "cell_type": "markdown",
     "metadata": {},
     "source": [
      "In Python, it's not necessary to import any library to read and write files. Just use the command 'open'"
     ]
    },
    {
     "cell_type": "code",
     "collapsed": false,
     "input": [
      "myfilename = 'data.txt'\n",
      "myfile = open(myfilename, 'r')\n",
      "myfile"
     ],
     "language": "python",
     "metadata": {},
     "outputs": [
      {
       "metadata": {},
       "output_type": "pyout",
       "prompt_number": 57,
       "text": [
        "<open file 'data.txt', mode 'r' at 0x000000000425AC90>"
       ]
      }
     ],
     "prompt_number": 57
    },
    {
     "cell_type": "markdown",
     "metadata": {},
     "source": [
      "The second argument indicates the mode:"
     ]
    },
    {
     "cell_type": "markdown",
     "metadata": {},
     "source": [
      "'r' when the file will only be read"
     ]
    },
    {
     "cell_type": "markdown",
     "metadata": {},
     "source": [
      "'w' for only writing (an existing file with the same name will be erased)"
     ]
    },
    {
     "cell_type": "markdown",
     "metadata": {},
     "source": [
      "'a' opens the file for appending; any data written to the file is automatically added to the end."
     ]
    },
    {
     "cell_type": "markdown",
     "metadata": {},
     "source": [
      "'r+' opens the file for both reading and writing."
     ]
    },
    {
     "cell_type": "markdown",
     "metadata": {},
     "source": [
      "So, what have we read?"
     ]
    },
    {
     "cell_type": "code",
     "collapsed": false,
     "input": [
      "print myfile.read()"
     ],
     "language": "python",
     "metadata": {},
     "outputs": [
      {
       "output_type": "stream",
       "stream": "stdout",
       "text": [
        "Point x y z\n",
        "1 200 100 -10\n",
        "2 210 120 -8\n",
        "3 220 140 -9\n",
        "4 230 160 -7\n",
        "5 240 180 -12\n"
       ]
      }
     ],
     "prompt_number": 58
    },
    {
     "cell_type": "markdown",
     "metadata": {},
     "source": [
      "Note that the string '\\n' indicates the EOL (End Of Line), aka newline character. Another useful functions are:"
     ]
    },
    {
     "cell_type": "code",
     "collapsed": false,
     "input": [
      "myfile = open(myfilename, 'r')\n",
      "print myfile.readlines()"
     ],
     "language": "python",
     "metadata": {},
     "outputs": [
      {
       "output_type": "stream",
       "stream": "stdout",
       "text": [
        "['Point x y z\\n', '1 200 100 -10\\n', '2 210 120 -8\\n', '3 220 140 -9\\n', '4 230 160 -7\\n', '5 240 180 -12']\n"
       ]
      }
     ],
     "prompt_number": 59
    },
    {
     "cell_type": "code",
     "collapsed": false,
     "input": [
      "myfile = open(myfilename, 'r')\n",
      "print myfile.readline()"
     ],
     "language": "python",
     "metadata": {},
     "outputs": [
      {
       "output_type": "stream",
       "stream": "stdout",
       "text": [
        "Point x y z\n",
        "\n"
       ]
      }
     ],
     "prompt_number": 60
    },
    {
     "cell_type": "markdown",
     "metadata": {},
     "source": [
      "We can use the pythonic iterator to read the file:"
     ]
    },
    {
     "cell_type": "code",
     "collapsed": false,
     "input": [
      "myfile = open(myfilename, 'r')\n",
      "\n",
      "for line in myfile:\n",
      "    print line,"
     ],
     "language": "python",
     "metadata": {},
     "outputs": [
      {
       "output_type": "stream",
       "stream": "stdout",
       "text": [
        "Point x y z\n",
        "1 200 100 -10\n",
        "2 210 120 -8\n",
        "3 220 140 -9\n",
        "4 230 160 -7\n",
        "5 240 180 -12\n"
       ]
      }
     ],
     "prompt_number": 61
    },
    {
     "cell_type": "markdown",
     "metadata": {},
     "source": [
      "Now, writing a file is straight forward:"
     ]
    },
    {
     "cell_type": "code",
     "collapsed": false,
     "input": [
      "myoutputfile = 'output.txt'\n",
      "myoutput = open(myoutputfile,'w')\n",
      "\n",
      "myoutput.write(\"Time Hm0 Tp Dm\\n\")\n",
      "myoutput.write(\"01-01-2020 1.5 14 270\\n\")\n",
      "myoutput.close()"
     ],
     "language": "python",
     "metadata": {},
     "outputs": [],
     "prompt_number": 62
    },
    {
     "cell_type": "markdown",
     "metadata": {},
     "source": [
      "We can chech quickly what we have done:"
     ]
    },
    {
     "cell_type": "code",
     "collapsed": false,
     "input": [
      "check = open(myoutputfile,'r')\n",
      "print check.read()"
     ],
     "language": "python",
     "metadata": {},
     "outputs": [
      {
       "output_type": "stream",
       "stream": "stdout",
       "text": [
        "Time Hm0 Tp Dm\n",
        "01-01-2020 1.5 14 270\n",
        "\n"
       ]
      }
     ],
     "prompt_number": 63
    },
    {
     "cell_type": "code",
     "collapsed": false,
     "input": [],
     "language": "python",
     "metadata": {},
     "outputs": [],
     "prompt_number": 63
    }
   ],
   "metadata": {}
  }
 ]
}